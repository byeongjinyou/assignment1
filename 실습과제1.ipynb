{
 "cells": [
  {
   "cell_type": "markdown",
   "id": "935d6e31",
   "metadata": {},
   "source": [
    "주어진 숫자 중 3개의 수를 더했을 때 소수가 되는 경우의 개수를 구하려고 합니다. 숫자들이 들어있는 배열 nums가 매개변수로 주어질 때, nums에 있는 숫자들 중 서로 다른 3개를 골라 더했을 때 소수가 되는 경우의 개수를 return 하도록 solution 함수를 완성해주세요.\n",
    "\n",
    "제한사항\n",
    "nums에 들어있는 숫자의 개수는 3개 이상 50개 이하입니다.\n",
    "nums의 각 원소는 1 이상 1,000 이하의 자연수이며, 중복된 숫자가 들어있지 않습니다."
   ]
  },
  {
   "cell_type": "markdown",
   "id": "90339998",
   "metadata": {},
   "source": [
    "먼저 순열을 사용하기위해 모듈을 import합니다."
   ]
  },
  {
   "cell_type": "code",
   "execution_count": 2,
   "id": "1b6e6467",
   "metadata": {},
   "outputs": [],
   "source": [
    "from itertools import combinations"
   ]
  },
  {
   "cell_type": "markdown",
   "id": "efea1322",
   "metadata": {},
   "source": [
    "소수인지 판별하는 함수를 정의합니다.\n",
    "2보다 작은 숫자는 소수가 아니고, 2부터 제곱근까지 나누어떨어지는 숫자가 있으면 소수가 아닙니다."
   ]
  },
  {
   "cell_type": "code",
   "execution_count": 3,
   "id": "e4b5ddaf",
   "metadata": {},
   "outputs": [],
   "source": [
    "def is_prime(num):\n",
    "    if num < 2:\n",
    "        return False\n",
    "    for i in range(2, int(num ** 0.5) + 1):\n",
    "        if num % i == 0:\n",
    "            return False\n",
    "    return True"
   ]
  },
  {
   "cell_type": "markdown",
   "id": "8cf4bb52",
   "metadata": {},
   "source": [
    "주어진 배열에서 소수인 조합의 개수를 찾는 함수를 정의합니다.\n",
    "조합을 사용해 주어진 배열에서 숫자 3개를 뽑고 그 합을 is_prime 함수를 사용해 소수인지 판별합니다.\n",
    "그리고 소수인 조합의 개수의 합을 반환합니다."
   ]
  },
  {
   "cell_type": "code",
   "execution_count": 4,
   "id": "56ee9d3c",
   "metadata": {},
   "outputs": [],
   "source": [
    "def solution(nums):\n",
    "  s = 0\n",
    "  for combo in combinations(nums, 3):\n",
    "    if is_prime(sum(combo)):\n",
    "      s += 1\n",
    "  return s"
   ]
  },
  {
   "cell_type": "markdown",
   "id": "1a401e96",
   "metadata": {},
   "source": [
    "아래는 예제 코드입니다."
   ]
  },
  {
   "cell_type": "code",
   "execution_count": 5,
   "id": "cafac7be",
   "metadata": {},
   "outputs": [
    {
     "name": "stdout",
     "output_type": "stream",
     "text": [
      "4\n"
     ]
    }
   ],
   "source": [
    "print(solution([1,2,7,6,4]))"
   ]
  },
  {
   "cell_type": "code",
   "execution_count": 7,
   "id": "41b44574",
   "metadata": {},
   "outputs": [
    {
     "name": "stdout",
     "output_type": "stream",
     "text": [
      "1\n"
     ]
    }
   ],
   "source": [
    "print(solution([1,2,3,4]))"
   ]
  }
 ],
 "metadata": {
  "kernelspec": {
   "display_name": "Python 3 (ipykernel)",
   "language": "python",
   "name": "python3"
  },
  "language_info": {
   "codemirror_mode": {
    "name": "ipython",
    "version": 3
   },
   "file_extension": ".py",
   "mimetype": "text/x-python",
   "name": "python",
   "nbconvert_exporter": "python",
   "pygments_lexer": "ipython3",
   "version": "3.9.12"
  }
 },
 "nbformat": 4,
 "nbformat_minor": 5
}
