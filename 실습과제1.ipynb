{
 "cells": [
  {
   "cell_type": "code",
   "execution_count": 1,
   "id": "ffaec408",
   "metadata": {
    "scrolled": true
   },
   "outputs": [
    {
     "name": "stdout",
     "output_type": "stream",
     "text": [
      "4\n"
     ]
    }
   ],
   "source": [
    "from itertools import combinations"
   ]
  },
  {
   "cell_type": "markdown",
   "id": "4ea5c3d5",
   "metadata": {},
   "source": [
    "순열을 사용하기위해 모듈을 import한다."
   ]
  },
  {
   "cell_type": "code",
   "execution_count": null,
   "id": "297c0a99",
   "metadata": {},
   "outputs": [],
   "source": [
    "def is_prime(num):\n",
    "    if num < 2:\n",
    "        return False\n",
    "    for i in range(2, int(num ** 0.5) + 1):\n",
    "        if num % i == 0:\n",
    "            return False\n",
    "    return True\n"
   ]
  },
  {
   "cell_type": "markdown",
   "id": "3f9a429b",
   "metadata": {},
   "source": [
    "소수를 판별하는 함수를 정의한다.\n",
    "2보다 작은 숫자는 소수가 아니고, 2부터 제곱근까지 나누어떨어 지는 숫자가 있으면 소수가 아니다."
   ]
  },
  {
   "cell_type": "code",
   "execution_count": null,
   "id": "01265513",
   "metadata": {},
   "outputs": [],
   "source": [
    "def solution(nums):\n",
    "  s = 0\n",
    "  for combo in combinations(nums, 3):\n",
    "    if is_prime(sum(combo)):\n",
    "      s += 1\n",
    "  return s\n"
   ]
  },
  {
   "cell_type": "markdown",
   "id": "676f1ca1",
   "metadata": {},
   "source": [
    "주어진 배열에서 소수인 조합의 개수를 찾는 함수를 정의한다. \n",
    "조합을 사용해 주어진 배열에서 3개를 뽑고 is_prime 함수를 사용해 소수인지 판별후 가능한 소수의 갯수의 합을 반환한다."
   ]
  },
  {
   "cell_type": "code",
   "execution_count": 2,
   "id": "119aab84",
   "metadata": {},
   "outputs": [
    {
     "name": "stdout",
     "output_type": "stream",
     "text": [
      "4\n"
     ]
    }
   ],
   "source": [
    "\n",
    "print(solution([1,2,7,6,4]))"
   ]
  },
  {
   "cell_type": "code",
   "execution_count": 3,
   "id": "28b6565f",
   "metadata": {},
   "outputs": [
    {
     "name": "stdout",
     "output_type": "stream",
     "text": [
      "1\n"
     ]
    }
   ],
   "source": [
    "print(solution([1,2,3,4]))"
   ]
  },
  {
   "cell_type": "code",
   "execution_count": null,
   "id": "91d1af39",
   "metadata": {},
   "outputs": [],
   "source": []
  }
 ],
 "metadata": {
  "kernelspec": {
   "display_name": "Python 3 (ipykernel)",
   "language": "python",
   "name": "python3"
  },
  "language_info": {
   "codemirror_mode": {
    "name": "ipython",
    "version": 3
   },
   "file_extension": ".py",
   "mimetype": "text/x-python",
   "name": "python",
   "nbconvert_exporter": "python",
   "pygments_lexer": "ipython3",
   "version": "3.9.12"
  }
 },
 "nbformat": 4,
 "nbformat_minor": 5
}
