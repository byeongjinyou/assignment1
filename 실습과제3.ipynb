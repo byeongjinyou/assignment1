{
 "cells": [
  {
   "cell_type": "markdown",
   "id": "75ecf117",
   "metadata": {},
   "source": [
    "# 두 개의 자연수를 입력 받아서 나눗셈을 하는 Python code 를 작성한다.\n",
    "# 입력 오류, 계산 오류에 대한 예외처리를 구현한다."
   ]
  },
  {
   "cell_type": "markdown",
   "id": "1a024386",
   "metadata": {},
   "source": [
    "두 수를 입력받고 자연인지 확인한다. 만약 자연수가 아니라면 ValueError를 발생시킨다.\n",
    "그리고 나눗셈을 수행하고 나눗셈을 할 때 ZeroDivisionError 가 발생하면 오류 메세지를 출력한다."
   ]
  },
  {
   "cell_type": "code",
   "execution_count": 14,
   "id": "c9150ec8",
   "metadata": {},
   "outputs": [
    {
     "name": "stdout",
     "output_type": "stream",
     "text": [
      "첫 번째 자연수를 입력하세요: 20\n",
      "두 번째 자연수를 입력하세요: 10\n",
      "나눗셈 결과: 2.0\n"
     ]
    }
   ],
   "source": [
    "try:\n",
    "    num1 = int(input(\"첫 번째 자연수를 입력하세요: \"))\n",
    "    num2 = int(input(\"두 번째 자연수를 입력하세요: \"))\n",
    "    # 자연수인지 확인\n",
    "    if num1 <= 0 or num2 <= 0:\n",
    "        raise ValueError(\"자연수를 입력해주세요.\")\n",
    "\n",
    "    # 나눗셈 수행\n",
    "    result = num1 / num2\n",
    "\n",
    "    print(\"나눗셈 결과:\", result)\n",
    "\n",
    "except ValueError as ve:\n",
    "    print(\"입력 오류:\", ve)\n",
    "except ZeroDivisionError:\n",
    "    print(\"0으로 나눌 수 없습니다.\")"
   ]
  }
 ],
 "metadata": {
  "kernelspec": {
   "display_name": "Python 3 (ipykernel)",
   "language": "python",
   "name": "python3"
  },
  "language_info": {
   "codemirror_mode": {
    "name": "ipython",
    "version": 3
   },
   "file_extension": ".py",
   "mimetype": "text/x-python",
   "name": "python",
   "nbconvert_exporter": "python",
   "pygments_lexer": "ipython3",
   "version": "3.9.12"
  }
 },
 "nbformat": 4,
 "nbformat_minor": 5
}
